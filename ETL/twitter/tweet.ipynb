{
 "cells": [
  {
   "cell_type": "code",
   "execution_count": 30,
   "metadata": {
    "collapsed": false
   },
   "outputs": [],
   "source": [
    "from pyspark import SparkContext\n",
    "from pyspark.streaming import StreamingContext\n",
    "from pyspark.sql import SQLContext\n",
    "from pyspark.sql.functions import desc # Permettez-nous de commander par ordre décroissant\n",
    "sc=SparkContext(appName=\"TweetApp6\") # Ne peut executer q'une seul fois. redémarrez votre noyau pour détecter les erreurs .\n",
    "ssc = StreamingContext(sc, 10 )\n",
    "sqlContext = SQLContext(sc) # Permettez-nous d'utiliser SQL pour qeury"
   ]
  },
  {
   "cell_type": "code",
   "execution_count": 31,
   "metadata": {
    "collapsed": true
   },
   "outputs": [],
   "source": [
    "ssc.checkpoint( \"file:///home/dataera/Bureau/tweet2\")\n",
    "socket_stream = ssc.socketTextStream(\"127.0.0.1\", 5532)\n",
    "lines = socket_stream.window( 20 )\n",
    "from collections import namedtuple\n",
    "fields = (\"tag\", \"count\" )"
   ]
  },
  {
   "cell_type": "code",
   "execution_count": 32,
   "metadata": {
    "collapsed": true
   },
   "outputs": [],
   "source": [
    "Tweet = namedtuple( 'Tweet', fields ) # Chaque élément se verra attribuer un champ\n",
    "# Utilisez des parenthèses pour plusieurs lignes ou utilisez \\.\n",
    "( lines.flatMap( lambda text: text.split( \" \" ) ) #Divisé à une liste\n",
    "  .filter( lambda word: word.lower().startswith(\"#\") ) # Vérifie les hashtag\n",
    "  .map( lambda word: ( word.lower(), 1 ) ) # Minuscules le mot, met en place un tuple\n",
    "  .reduceByKey( lambda a, b: a + b )  # Reduces by key\n",
    "  .map( lambda rec: Tweet( rec[0], rec[1] ) ) # Mettre dans un objet Tweet\n",
    "  .foreachRDD( lambda rdd: rdd.toDF().sort( desc(\"count\") ) # Trie par ordre décroissant par nombre\n",
    "              .limit(10).registerTempTable(\"tweets\") ) ) # Pour chaque dix tweets sera enregistré comme une table."
   ]
  },
  {
   "cell_type": "code",
   "execution_count": 33,
   "metadata": {
    "collapsed": false
   },
   "outputs": [],
   "source": [
    "sqlContext\n",
    "ssc.start()"
   ]
  },
  {
   "cell_type": "code",
   "execution_count": 34,
   "metadata": {
    "collapsed": true
   },
   "outputs": [],
   "source": [
    "import matplotlib.pyplot as plt #Bibliothèque de visualisation\n",
    "import seaborn as sn #Bibliothèque de visualisation"
   ]
  },
  {
   "cell_type": "code",
   "execution_count": 35,
   "metadata": {
    "collapsed": true
   },
   "outputs": [],
   "source": [
    "get_ipython().magic(u'matplotlib inline')\n",
    "\n",
    "import time "
   ]
  },
  {
   "cell_type": "code",
   "execution_count": 36,
   "metadata": {
    "collapsed": true
   },
   "outputs": [],
   "source": [
    "import csv\n",
    "def on_status(self, status): \n",
    "    with open('file.txt', 'w') as f: \n",
    "        f.write('Author,Date,Text')\n",
    "        writer = csv.writer(f)\n",
    "        writer.writerow([status.author.screen_name, status.created_at, status.text])"
   ]
  },
  {
   "cell_type": "code",
   "execution_count": 40,
   "metadata": {
    "collapsed": false
   },
   "outputs": [
    {
     "ename": "SyntaxError",
     "evalue": "unexpected character after line continuation character (<ipython-input-40-b417c9fcbb49>, line 5)",
     "output_type": "error",
     "traceback": [
      "\u001b[0;36m  File \u001b[0;32m\"<ipython-input-40-b417c9fcbb49>\"\u001b[0;36m, line \u001b[0;32m5\u001b[0m\n\u001b[0;31m    print (tweet)['id_str'],        tweet['created_at'],        tweet['user']['screen_name'].encode('utf-8'),        tweet['text'].encode('utf-8'),        [hashtag['text'].encode('utf-8') for hashtag in tweet['entities']\\['hashtags'] ]\u001b[0m\n\u001b[0m                                                                                                                                                                                                                                           ^\u001b[0m\n\u001b[0;31mSyntaxError\u001b[0m\u001b[0;31m:\u001b[0m unexpected character after line continuation character\n"
     ]
    }
   ],
   "source": [
    "\n",
    "with open(\"output.csv\", \"a\") as csv_file:\n",
    "    csv.writer(csv_file).writerow([\"ID_STR\", \"CREATED_AT\", \"SCREEN_NAME\",\"TEXT\", \"HASHTAGS\"])\n",
    "    for tweet in Tweet:\n",
    "        print (tweet)['id_str'],\\\n",
    "        tweet['created_at'],\\\n",
    "        tweet['user']['screen_name'].encode('utf-8'),\\\n",
    "        tweet['text'].encode('utf-8'),\\\n",
    "        [hashtag['text'].encode('utf-8') for hashtag in tweet['entities']\\['hashtags'] ]\n",
    "        \n",
    "        for hashtag in tweet['entities']['hashtags']:\n",
    "            csv.writer(csv_file).writerow([\n",
    "            tweet['id_str'],\n",
    "            tweet['created_at'],\n",
    "            tweet['user']['screen_name'].encode('utf-8'),\n",
    "            tweet['text'].encode('utf-8'),\n",
    "            hashtag['text'].encode('utf-8')])"
   ]
  },
  {
   "cell_type": "code",
   "execution_count": 6,
   "metadata": {
    "collapsed": false
   },
   "outputs": [
    {
     "name": "stdout",
     "output_type": "stream",
     "text": [
      "+--------------+-----+\n",
      "|           tag|count|\n",
      "+--------------+-----+\n",
      "|#cybersecurity|    9|\n",
      "|   #daytrading|    7|\n",
      "|       #market|    7|\n",
      "|       #stocks|    7|\n",
      "|       #nasdaq|    7|\n",
      "|         #nyse|    7|\n",
      "|      #infosec|    5|\n",
      "|       #google|    3|\n",
      "|         #data|    2|\n",
      "|        #cy…rt|    2|\n",
      "+--------------+-----+\n",
      "\n",
      "None\n"
     ]
    }
   ],
   "source": [
    "top_100_tweets = sqlContext.sql( \"Select tag, count from tweets\" )\n",
    "print(top_100_tweets.show(100))"
   ]
  },
  {
   "cell_type": "code",
   "execution_count": null,
   "metadata": {
    "collapsed": false
   },
   "outputs": [],
   "source": [
    "from IPython import display #Nous permet d'afficher des éléments dans le notebook\n",
    "count = 0\n",
    "while count < 100:\n",
    "    time.sleep( 20 )\n",
    "    top_100_tweets = sqlContext.sql( \"Select tag, count from tweets\" )\n",
    "    top_100_df = top_100_tweets.toPandas() # Bibliothèque de Dataframe\n",
    "    display.clear_output(wait=True) #Efface la sortie, si un plot existe.\n",
    "    plt.figure( figsize = ( 10, 8) )\n",
    "    sn.barplot( x=\"count\", y=\"tag\", data=top_100_df)\n",
    "    plt.show()\n",
    "    count = count + 1"
   ]
  },
  {
   "cell_type": "code",
   "execution_count": 29,
   "metadata": {
    "collapsed": true
   },
   "outputs": [],
   "source": [
    "ssc.stop()"
   ]
  },
  {
   "cell_type": "code",
   "execution_count": null,
   "metadata": {
    "collapsed": true
   },
   "outputs": [],
   "source": []
  }
 ],
 "metadata": {
  "kernelspec": {
   "display_name": "Python 3",
   "language": "python",
   "name": "python3"
  },
  "language_info": {
   "codemirror_mode": {
    "name": "ipython",
    "version": 3
   },
   "file_extension": ".py",
   "mimetype": "text/x-python",
   "name": "python",
   "nbconvert_exporter": "python",
   "pygments_lexer": "ipython3",
   "version": "3.6.0"
  }
 },
 "nbformat": 4,
 "nbformat_minor": 2
}
